{
 "cells": [
  {
   "cell_type": "markdown",
   "id": "764dca40-47e9-4dde-8303-10abe40eda98",
   "metadata": {},
   "source": [
    "# Ejercicio 2 - Listas por comprensión"
   ]
  },
  {
   "cell_type": "markdown",
   "id": "e029995c-8052-4973-8cd3-f4daad05b4b6",
   "metadata": {},
   "source": [
    "## 1. Usa comprensión de listas para:\n"
   ]
  },
  {
   "cell_type": "code",
   "execution_count": 6,
   "id": "387d1b97-4234-4e6e-84b8-fba1629f1440",
   "metadata": {
    "tags": []
   },
   "outputs": [
    {
     "data": {
      "text/plain": [
       "[1,4,9,16,25,36,49,64,81,100]"
      ]
     },
     "metadata": {},
     "output_type": "display_data"
    },
    {
     "data": {
      "text/plain": [
       "[3,6,9,12,15,18,21,24,27,30]"
      ]
     },
     "metadata": {},
     "output_type": "display_data"
    },
    {
     "data": {
      "text/plain": [
       "[(1,2),(1,3),(1,4),(1,5),(2,3),(2,4),(2,5),(3,4),(3,5),(4,5)]"
      ]
     },
     "metadata": {},
     "output_type": "display_data"
    }
   ],
   "source": [
    "--a. Obtener los cuadrados de los primeros 10 números.\n",
    "[ x^2 | x <- [1..10] ]\n",
    "\n",
    "--b. Filtrar los divisibles por 3 entre 1 y 30.\n",
    "[ x | x <- [1..30], mod x 3 == 0]\n",
    "\n",
    "--c. Generar una lista de pares (x, y) donde x < y y ambos estén en [1..5].\n",
    "[ (x,y) | x <- [1..5], y <- [1..5] , x < y]"
   ]
  },
  {
   "cell_type": "markdown",
   "id": "e5aca8b0-09a2-41dc-9915-d817936b68ec",
   "metadata": {},
   "source": [
    "## 2. Define una función que devuelva los divisores de un número (usando lista por comprensión):\n",
    "\n"
   ]
  },
  {
   "cell_type": "code",
   "execution_count": 7,
   "id": "ab48c940-1b09-4732-aa38-bdc88d97932c",
   "metadata": {
    "tags": []
   },
   "outputs": [
    {
     "data": {
      "text/plain": [
       "[1,2,3,5,6,10,15,30]"
      ]
     },
     "metadata": {},
     "output_type": "display_data"
    }
   ],
   "source": [
    " divisores :: Int -> [Int]\n",
    " divisores n = [ x | x <- [1..n], mod n x == 0]\n",
    " divisores 30"
   ]
  },
  {
   "cell_type": "markdown",
   "id": "0d4c00b5-1e52-4db8-899c-64298033ec8f",
   "metadata": {},
   "source": [
    "## 3. Define la función divisoresPropios, crea una función que determine si un número es perfecto (suma de sus divisores propios = número):"
   ]
  },
  {
   "cell_type": "code",
   "execution_count": 15,
   "id": "42bf5774-83c7-4220-b040-5675863f7b26",
   "metadata": {
    "tags": []
   },
   "outputs": [
    {
     "data": {
      "text/plain": [
       "True"
      ]
     },
     "metadata": {},
     "output_type": "display_data"
    }
   ],
   "source": [
    "esPerfecto :: Int -> Bool\n",
    "esPerfecto n = n == sum[ x | x <- [1..n-1], mod n x == 0]\n",
    "esPerfecto 6"
   ]
  },
  {
   "cell_type": "code",
   "execution_count": null,
   "id": "f735726e-4f18-4401-b959-332b5979f7e0",
   "metadata": {},
   "outputs": [],
   "source": []
  }
 ],
 "metadata": {
  "kernelspec": {
   "display_name": "Haskell",
   "language": "haskell",
   "name": "haskell"
  },
  "language_info": {
   "codemirror_mode": "ihaskell",
   "file_extension": ".hs",
   "mimetype": "text/x-haskell",
   "name": "haskell",
   "pygments_lexer": "Haskell",
   "version": "9.6.4"
  }
 },
 "nbformat": 4,
 "nbformat_minor": 5
}
