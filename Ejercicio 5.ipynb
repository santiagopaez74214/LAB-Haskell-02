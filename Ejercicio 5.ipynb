{
 "cells": [
  {
   "cell_type": "markdown",
   "id": "f6d990ee-eab2-495e-92b0-b56498b56852",
   "metadata": {},
   "source": [
    "# Ejercicio 5 - “El problema de las dos jarras” usando A*\n"
   ]
  },
  {
   "cell_type": "markdown",
   "id": "1bdd7f19-f93f-4754-bab1-0964f9524c2b",
   "metadata": {},
   "source": [
    "**Objetivo:**\n",
    "Usar el algoritmo A* para encontrar la secuencia más corta de acciones que permita medir exactamente 4 litros usando dos jarras:\n",
    "\n",
    "una de 5 litros,\n",
    "otra de 3 litros,\n",
    "y una fuente de agua infinita.\n",
    "\n",
    "**Descripción del problema**\n",
    "\n",
    "Tienes:\n",
    "Jarra A de capacidad 5 L\n",
    "\n",
    "Jarra B de capacidad 3 L\n",
    "\n",
    "**Operaciones posibles:**\n",
    "\n",
    "Llenar una jarra completamente.\n",
    "\n",
    "Vaciar una jarra.\n",
    "\n",
    "Verter el contenido de una jarra en la otra hasta que una se vacíe o la otra se llene.\n",
    "\n",
    "Estado inicial: (0, 0)\n",
    "\n",
    "Meta: cualquier estado donde una jarra tenga 4 litros, es decir: (4, _ ) o ( _ ,4)\n",
    "\n",
    "**Representación de estados**\n",
    "\n",
    "Cada estado es un par (a, b) donde:\n",
    "\n",
    "a = litros en la jarra de 5 L\n",
    "\n",
    "b = litros en la jarra de 3 L"
   ]
  },
  {
   "cell_type": "code",
   "execution_count": 17,
   "id": "ac011e2f-09e3-4f44-b1ab-a3091b823df7",
   "metadata": {
    "tags": []
   },
   "outputs": [
    {
     "data": {
      "text/plain": [
       "[((0,0),0),((5,0),1),((3,2),2),((3,0),3),((5,3),2),((5,2),3),((3,3),3),((5,1),4),((0,3),1),((0,2),3),((2,0),4),((3,5),3),((3,4),4),((0,1),5),((1,0),6),((2,3),5),((5,5),4),((5,4),5),((0,5),4),((0,4),5),((4,0),6)]"
      ]
     },
     "metadata": {},
     "output_type": "display_data"
    }
   ],
   "source": [
    "type Estado = (Int, Int)\n",
    "type Nodo = Estado\n",
    "type Costo = Int\n",
    "type Grafo = [(Nodo, [(Nodo, Costo)])]\n",
    "\n",
    "--Definimos las operaciones válidas desde un estado (a, b):\n",
    "\n",
    "-- Capacidades de las jarras\n",
    "capA, capB :: Int\n",
    "capA = 5\n",
    "capB = 3\n",
    "\n",
    "-- Estado inicial\n",
    "inicio :: Estado\n",
    "inicio = (0,0)\n",
    "\n",
    "-- Objetivo\n",
    "objetivo :: Estado\n",
    "objetivo = (4,0)\n",
    "\n",
    "-- Genera todos los estados alcanzables desde uno dado\n",
    "vecinos :: Estado -> [(Estado, Costo)]\n",
    "vecinos (a,b) =\n",
    "  [ ((capA, b), 1)            -- Llenar jarra A\n",
    "  , ((a, capB), 1)            -- Llenar jarra B\n",
    "  , ((0, b), 1)               -- Vaciar jarra A\n",
    "  , ((a, 0), 1)               -- Vaciar jarra B\n",
    "  , (transferirAB (a,b), 1)  -- Verter A→B\n",
    "  , (transferirBA (a,b), 1)  -- Verter B→A\n",
    "  ]\n",
    "\n",
    "-- Verter de A a B\n",
    "transferirAB :: Estado -> Estado\n",
    "transferirAB (a,b) = (b + vertido, a - vertido)\n",
    "  where vertido = min a (capB - b)\n",
    "\n",
    "-- Verter de B a A\n",
    "transferirBA :: Estado -> Estado\n",
    "transferirBA (a,b) = (a + vertido, b - vertido)\n",
    "  where vertido = min b (capA - a)\n",
    "\n",
    "--Definir una heurística admisible - Distancia Manhattan\n",
    "heuristica :: Estado -> Costo\n",
    "heuristica (a,b) = abs (fst objetivo - a) + abs (snd objetivo - b)\n",
    "\n",
    "import Data.List (sortOn)\n",
    "\n",
    "aStar :: (Nodo -> [(Nodo, Costo)]) -> (Nodo -> Costo) -> Nodo -> Nodo -> [(Nodo, Costo)]\n",
    "aStar sucesores heuristica inicio meta = buscar [(inicio, 0)] []\n",
    "  where\n",
    "    buscar [] _ = []\n",
    "    buscar ((nodo, costo):cola) visitados\n",
    "      | nodo == meta = [(nodo, costo)]\n",
    "      | nodo `elem` visitados = buscar cola visitados\n",
    "      | otherwise =\n",
    "          let nuevos = [ (v, costo + c) | (v, c) <- sucesores nodo, v `notElem` visitados ]\n",
    "              ordenados = sortOn (\\(v, c) -> c + heuristica v) (cola ++ nuevos)\n",
    "          in (nodo, costo) : buscar ordenados (nodo : visitados)\n",
    "\n",
    "aStar vecinos heuristica inicio objetivo"
   ]
  }
 ],
 "metadata": {
  "kernelspec": {
   "display_name": "Haskell",
   "language": "haskell",
   "name": "haskell"
  },
  "language_info": {
   "codemirror_mode": "ihaskell",
   "file_extension": ".hs",
   "mimetype": "text/x-haskell",
   "name": "haskell",
   "pygments_lexer": "Haskell",
   "version": "9.6.4"
  }
 },
 "nbformat": 4,
 "nbformat_minor": 5
}
