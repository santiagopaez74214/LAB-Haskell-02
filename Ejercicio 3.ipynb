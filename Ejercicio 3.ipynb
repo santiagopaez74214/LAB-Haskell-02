{
 "cells": [
  {
   "cell_type": "markdown",
   "id": "243911ef-465d-4c87-b3b4-9bcd385fc55e",
   "metadata": {},
   "source": [
    "# Ejercicio 3 - Funciones de orden superior\n"
   ]
  },
  {
   "cell_type": "markdown",
   "id": "d59fb1cf-0e62-4e3c-8eb5-754145b2f420",
   "metadata": {
    "tags": []
   },
   "source": [
    "## 1. Reescribe las siguientes funciones sin recursión explícita, usando funciones de orden superior:\n",
    "\n"
   ]
  },
  {
   "cell_type": "code",
   "execution_count": 4,
   "id": "6ba4b719-3891-4bdb-96cb-7c55362ea18e",
   "metadata": {
    "tags": []
   },
   "outputs": [
    {
     "data": {
      "text/plain": [
       "21"
      ]
     },
     "metadata": {},
     "output_type": "display_data"
    },
    {
     "data": {
      "text/plain": [
       "3"
      ]
     },
     "metadata": {},
     "output_type": "display_data"
    },
    {
     "data": {
      "text/plain": [
       "24"
      ]
     },
     "metadata": {},
     "output_type": "display_data"
    },
    {
     "data": {
      "text/plain": [
       "[32.0,212.0,102.2]"
      ]
     },
     "metadata": {},
     "output_type": "display_data"
    },
    {
     "data": {
      "text/plain": [
       "[6,2,8,4,10]"
      ]
     },
     "metadata": {},
     "output_type": "display_data"
    }
   ],
   "source": [
    "-- a. Suma de todos los elementos\n",
    "sumaLista :: [Int] -> Int\n",
    "sumaLista = sum\n",
    "sumaLista [1,2,3,4,5,6]\n",
    "\n",
    "-- b. Contar cuántos elementos son mayores que 10\n",
    "mayoresQue10 :: [Int] -> Int\n",
    "mayoresQue10 xs = length (filter (>10) xs)\n",
    "mayoresQue10 [10,30,40,5,60,1,2,9]\n",
    "\n",
    "-- c. Calcular el producto de una lista de números\n",
    "productoLista :: [Int] -> Int\n",
    "productoLista = product\n",
    "productoLista [1,2,3,4]\n",
    "\n",
    "-- d. Convertir una lista de grados Celsius a Fahrenheit\n",
    "celsiusAFahrenheit :: [Double] -> [Double]\n",
    "celsiusAFahrenheit = map (\\x -> x * 9/5 + 32)\n",
    "celsiusAFahrenheit [0, 100, 39]\n",
    "\n",
    "-- e. Suma 5 a cada número impar y deja igual los pares\n",
    "ajustarImpares :: [Int] -> [Int]\n",
    "ajustarImpares = map (\\x -> if odd x then x + 5 else x)\n",
    "ajustarImpares [1,2,3,4,5]\n"
   ]
  },
  {
   "cell_type": "markdown",
   "id": "6f71e74b-9d0f-4ff5-8f78-ec04c07be775",
   "metadata": {},
   "source": [
    "## 2. Define las siguientes funciones usando filter\n",
    "\n"
   ]
  },
  {
   "cell_type": "code",
   "execution_count": 5,
   "id": "8b3caedc-a76a-444d-8c9f-9aafad464c29",
   "metadata": {
    "tags": []
   },
   "outputs": [
    {
     "data": {
      "text/plain": [
       "[\"Andres\",\"Santiago\"]"
      ]
     },
     "metadata": {},
     "output_type": "display_data"
    },
    {
     "data": {
      "text/plain": [
       "[-2,-5,-1,-4]"
      ]
     },
     "metadata": {},
     "output_type": "display_data"
    },
    {
     "data": {
      "text/plain": [
       "[18,20,21,23]"
      ]
     },
     "metadata": {},
     "output_type": "display_data"
    }
   ],
   "source": [
    "--a. Devuelve solo los nombres con más de 5 letras. \n",
    "nombresLargos :: [String] -> [String] \n",
    "nombresLargos = filter (\\x -> length x > 5)\n",
    "nombresLargos [\"Luisa\", \"Angie\", \"Andres\", \"Santiago\", \"Mateo\"] \n",
    "\n",
    "--b. Filtra los números negativos de una lista. \n",
    "soloNegativos :: [Int] -> [Int] \n",
    "soloNegativos = filter (<0) \n",
    "soloNegativos [-2,3,-5,-1,0,-4,6] \n",
    "\n",
    "--c. De una lista de edades, obtiene las que estén entre 18 y 25 años. \n",
    "edadesUniversitarios :: [Int] -> [Int] \n",
    "edadesUniversitarios = filter (\\x -> x > 17 && x < 26)\n",
    "edadesUniversitarios [18,38,26,17,20,21,42,23]"
   ]
  },
  {
   "cell_type": "markdown",
   "id": "543fea18-6cd7-403a-846c-b5e0503ef4ce",
   "metadata": {},
   "source": [
    "## 3. Define las siguientes funciones usando filter y map\n",
    "\n"
   ]
  },
  {
   "cell_type": "code",
   "execution_count": 19,
   "id": "8baefa70-9847-45f3-a5cd-9cf176e6f256",
   "metadata": {
    "tags": []
   },
   "outputs": [
    {
     "data": {
      "text/html": [
       "<style>/* Styles used for the Hoogle display in the pager */\n",
       ".hoogle-doc {\n",
       "display: block;\n",
       "padding-bottom: 1.3em;\n",
       "padding-left: 0.4em;\n",
       "}\n",
       ".hoogle-code {\n",
       "display: block;\n",
       "font-family: monospace;\n",
       "white-space: pre;\n",
       "}\n",
       ".hoogle-text {\n",
       "display: block;\n",
       "}\n",
       ".hoogle-name {\n",
       "color: green;\n",
       "font-weight: bold;\n",
       "}\n",
       ".hoogle-head {\n",
       "font-weight: bold;\n",
       "}\n",
       ".hoogle-sub {\n",
       "display: block;\n",
       "margin-left: 0.4em;\n",
       "}\n",
       ".hoogle-package {\n",
       "font-weight: bold;\n",
       "font-style: italic;\n",
       "}\n",
       ".hoogle-module {\n",
       "font-weight: bold;\n",
       "}\n",
       ".hoogle-class {\n",
       "font-weight: bold;\n",
       "}\n",
       "\n",
       ".get-type {\n",
       "color: green;\n",
       "font-weight: bold;\n",
       "font-family: monospace;\n",
       "display: block;\n",
       "white-space: pre-wrap;\n",
       "}\n",
       ".show-type {\n",
       "color: green;\n",
       "font-weight: bold;\n",
       "font-family: monospace;\n",
       "margin-left: 1em;\n",
       "}\n",
       ".mono {\n",
       "font-family: monospace;\n",
       "display: block;\n",
       "}\n",
       ".err-msg {\n",
       "color: red;\n",
       "font-style: italic;\n",
       "font-family: monospace;\n",
       "white-space: pre;\n",
       "display: block;\n",
       "}\n",
       "#unshowable {\n",
       "color: red;\n",
       "font-weight: bold;\n",
       "}\n",
       ".err-msg.in.collapse {\n",
       "padding-top: 0.7em;\n",
       "}\n",
       "\n",
       ".highlight-code {\n",
       "white-space: pre;\n",
       "font-family: monospace;\n",
       "}\n",
       "\n",
       ".suggestion-warning { \n",
       "font-weight: bold;\n",
       "color: rgb(200, 130, 0);\n",
       "}\n",
       ".suggestion-error { \n",
       "font-weight: bold;\n",
       "color: red;\n",
       "}\n",
       ".suggestion-name {\n",
       "font-weight: bold;\n",
       "}\n",
       "\n",
       "</style><div class=\"suggestion-name\" style=\"clear:both;\">Redundant bracket</div><div class=\"suggestion-row\" style=\"float: left;\"><div class=\"suggestion-warning\">Found:</div><div class=\"highlight-code\" id=\"haskell\">(even)</div></div><div class=\"suggestion-row\" style=\"float: left;\"><div class=\"suggestion-warning\">Why Not:</div><div class=\"highlight-code\" id=\"haskell\">even</div></div>"
      ],
      "text/plain": [
       "Line 15: Redundant bracket\n",
       "Found:\n",
       "(even)\n",
       "Why not:\n",
       "even"
      ]
     },
     "metadata": {},
     "output_type": "display_data"
    },
    {
     "data": {
      "text/plain": [
       "[2380.0,42840.0,47600.0,63070.0]"
      ]
     },
     "metadata": {},
     "output_type": "display_data"
    },
    {
     "data": {
      "text/plain": [
       "[3,3,8]"
      ]
     },
     "metadata": {},
     "output_type": "display_data"
    },
    {
     "data": {
      "text/plain": [
       "[4,16,36,64]"
      ]
     },
     "metadata": {},
     "output_type": "display_data"
    }
   ],
   "source": [
    "--a. Dada una lista de precios, sumar IVA (19%) solo a los valores mayores o iguales a 1000.\n",
    "agregarIVA :: [Double] -> [Double]\n",
    "agregarIVA = map (\\x -> x + x * 0.19) . filter (>= 1000) \n",
    "agregarIVA [2000.0,900.0,36000.0,40000.0,53000.0]\n",
    "\n",
    "--b. De una lista de palabras, obtener solo las que comienzan con vocal y devolver su longitud.\n",
    "longitudesVocales :: [String] -> [Int]\n",
    "longitudesVocales = map length . filter empiezaConVocal\n",
    "  where\n",
    "    empiezaConVocal palabra = head palabra `elem` \"aeiouAEIOU\"\n",
    "longitudesVocales [\"Uva\", \"casa\", \"oso\", \"Tren\", \"Elefante\"]\n",
    "\n",
    "--c. Dada una lista de números, devuelve los cuadrados de los pares.\n",
    "cuadradosPares :: [Int] -> [Int]\n",
    "cuadradosPares = map (\\x -> x*x) . filter (even)\n",
    "cuadradosPares [2,4,6,7,8,9]"
   ]
  },
  {
   "cell_type": "markdown",
   "id": "1351c05c-a398-4587-9230-cef01f4c75ed",
   "metadata": {},
   "source": [
    "## 4. Define las siguientes funciones usando any o all\n",
    "\n"
   ]
  },
  {
   "cell_type": "code",
   "execution_count": 9,
   "id": "622b42b0-6080-4797-b959-0933c7837ed8",
   "metadata": {
    "tags": []
   },
   "outputs": [
    {
     "data": {
      "text/plain": [
       "True"
      ]
     },
     "metadata": {},
     "output_type": "display_data"
    },
    {
     "data": {
      "text/plain": [
       "False"
      ]
     },
     "metadata": {},
     "output_type": "display_data"
    },
    {
     "data": {
      "text/plain": [
       "False"
      ]
     },
     "metadata": {},
     "output_type": "display_data"
    }
   ],
   "source": [
    "--a. Verifica si algún número en la lista es negativo.\n",
    "hayNegativo :: [Int] -> Bool\n",
    "hayNegativo = any (even)\n",
    "hayNegativo [1,3,-2,0,-6,-7]\n",
    "\n",
    "--b. Verifica si todos los números son pares.\n",
    "todosPares :: [Int] -> Bool\n",
    "todosPares = all (even)\n",
    "todosPares [2,3,4,5,6,7]\n",
    "\n",
    "--c. Comprueba si todos los nombres empiezan con mayúscula.\n",
    "import Data.Char (isUpper)\n",
    "nombresCorrectos :: [String] -> Bool\n",
    "nombresCorrectos = all (\\x -> isUpper (head x))\n",
    "nombresCorrectos [\"Luisa\",\"David\",\"Santiago\",\"Stefania\",\"angie\"]"
   ]
  },
  {
   "cell_type": "markdown",
   "id": "e13a050c-96c6-4ae5-afa7-ac2523817bc3",
   "metadata": {},
   "source": [
    "## 5. Define las siguientes funciones usando takeWhile o dropWhile\n",
    "\n"
   ]
  },
  {
   "cell_type": "code",
   "execution_count": 12,
   "id": "28bddc35-39fc-44dc-9ecb-19daec7abc30",
   "metadata": {
    "tags": []
   },
   "outputs": [
    {
     "data": {
      "text/plain": [
       "[20,30,40,45,60]"
      ]
     },
     "metadata": {},
     "output_type": "display_data"
    },
    {
     "data": {
      "text/plain": [
       "[4,5,0,6]"
      ]
     },
     "metadata": {},
     "output_type": "display_data"
    }
   ],
   "source": [
    "--a.De una lista ordenada, toma los elementos menores que 100.\n",
    "import Data.List (sort)\n",
    "menoresQue100 :: [Int] -> [Int]\n",
    "menoresQue100 xs = takeWhile (<100) (sort xs)\n",
    "menoresQue100 [60,20,100,30,40,200,45]\n",
    "\n",
    "--b. Quita los ceros iniciales de una lista.\n",
    "sinCerosIniciales :: [Int] -> [Int]\n",
    "sinCerosIniciales = dropWhile (==0)\n",
    "sinCerosIniciales [0,0,0,4,5,0,6]\n"
   ]
  },
  {
   "cell_type": "code",
   "execution_count": null,
   "id": "da9f3484-0b55-409b-a0e7-248000c67504",
   "metadata": {},
   "outputs": [],
   "source": []
  }
 ],
 "metadata": {
  "kernelspec": {
   "display_name": "Haskell",
   "language": "haskell",
   "name": "haskell"
  },
  "language_info": {
   "codemirror_mode": "ihaskell",
   "file_extension": ".hs",
   "mimetype": "text/x-haskell",
   "name": "haskell",
   "pygments_lexer": "Haskell",
   "version": "9.6.4"
  }
 },
 "nbformat": 4,
 "nbformat_minor": 5
}
