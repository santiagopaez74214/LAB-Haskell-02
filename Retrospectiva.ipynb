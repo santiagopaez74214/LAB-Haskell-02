{
 "cells": [
  {
   "cell_type": "markdown",
   "id": "0c7cbba2-5691-4e92-ba90-d859bae85462",
   "metadata": {},
   "source": [
    "# Retrospectiva\n",
    "1. ¿Cuál fue el tiempo total invertido en el laboratorio por cada uno de ustedes? (Horas/Hombre)\n",
    "El tiempo total invertido en el laboratorio fue de aproximadamente 6 horas por persona (6 horas/hombre), pero eso al estar trabajando invidividualmente en el laboratorio.\n",
    "2. ¿Cuál es el estado actual del laboratorio? ¿Por qué?\n",
    "El laboratorio se encuentra completo, ya que se realizaron en su totalidad todos los ejercicios solicitados y se probaron con los resultados esperados.\n",
    "3. ¿Cuál consideran fue el mayor logro? ¿Por qué?\n",
    "El mayor logro fue comprender correctamente la implementación de funciones de primer orden y funciones que reciben a otras en Haskell, porque es una sintaxis especial de acuerdo al lenguaje de programación, así como resolver el problema de las jarras con el algortimo A* \n",
    "4. ¿Cuál consideran que fue el mayor problema técnico? ¿Qué hicieron para resolverlo?\n",
    "El mayor problema técnico fue entender el funcionamiento de como reciben unas funciones otras, además el como implementar adecuadamente el algoritmo A* en Haskell y el tema de las heurísticas, ya que no había trabajado antes con eso. Para resolverlo, busque el ejemplo visto en clase y y discutimos con otros compañeros para aclarar dudas, y con el apoyo del profesor\n",
    "5. ¿Qué hicieron bien como equipo? ¿Qué se comprometen a hacer para mejorar los resultados?\n",
    "En esta ocasión trabajé de forma individual, ya que no se pudo conformar un equipo. Sin embargo, me apoyé con otros compañeros, intercambiando ideas y explicaciones para lograr una mejor comprensión del laboratorio. Me comprometo a seguir reforzando cada uno de los temas mediante la lectura y la práctica constante.\n",
    "6. ¿Qué referencias usaron? ¿Cuál fue la más útil? Incluyan citas con estándares adecuados.\n",
    "Se utilizaron referencias obtenidas a través de búsquedas en Google, inteligencia artifical de forma adecuada, y el texto guía proporcionado por el docente como preparación para la clase, y las presentaciones vistas en las clases pasadas. Una de las referencias más útiles fue la búsqueda de funciones de primer orden y como implementarlas para resolver ciertos problemas, y el algoritmo A*.\n"
   ]
  }
 ],
 "metadata": {
  "kernelspec": {
   "display_name": "Haskell",
   "language": "haskell",
   "name": "haskell"
  },
  "language_info": {
   "codemirror_mode": "ihaskell",
   "file_extension": ".hs",
   "mimetype": "text/x-haskell",
   "name": "haskell",
   "pygments_lexer": "Haskell",
   "version": "9.6.4"
  }
 },
 "nbformat": 4,
 "nbformat_minor": 5
}
